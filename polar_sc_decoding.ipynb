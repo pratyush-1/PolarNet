{
 "cells": [
  {
   "cell_type": "code",
   "execution_count": 1,
   "metadata": {},
   "outputs": [
    {
     "name": "stderr",
     "output_type": "stream",
     "text": [
      "C:\\Users\\pratyush\\AppData\\Local\\Temp\\ipykernel_17516\\3055195471.py:4: TqdmWarning: IProgress not found. Please update jupyter and ipywidgets. See https://ipywidgets.readthedocs.io/en/stable/user_install.html\n",
      "  from tqdm.autonotebook import tqdm\n"
     ]
    }
   ],
   "source": [
    "import torch\n",
    "import torch.nn as nn\n",
    "import numpy as np\n",
    "from tqdm.autonotebook import tqdm\n",
    "from polar import PolarCode,get_frozen\n",
    "from reliability_sequence import Reliability_Sequence\n",
    "from utils import errors_ber,errors_bler\n",
    "import matplotlib.pyplot as plt\n",
    "import os"
   ]
  },
  {
   "cell_type": "code",
   "execution_count": 2,
   "metadata": {},
   "outputs": [],
   "source": [
    "n = 5\n",
    "N = 2**n \n",
    "K = 16\n",
    "snr = 1\n",
    "batch_size = 1\n",
    "num_samples = 1000\n"
   ]
  },
  {
   "cell_type": "code",
   "execution_count": null,
   "metadata": {},
   "outputs": [],
   "source": [
    "\n",
    "def create_data(num_samples, batch_size, n, K, snr,rs):\n",
    "    msg_bits_list = []\n",
    "    bpsk_list = []\n",
    "    codeword_list = []\n",
    "    corrupted_codeword_list = []\n",
    "\n",
    "    # Loop to generate data samples\n",
    "    for i in range(num_samples):\n",
    "        msg_bits = (torch.rand(K) > 0.5).float()\n",
    "        bpsk = 1 - 2 * msg_bits\n",
    "\n",
    "        polar = PolarCode(n, K, rs = rs, Fr=None, use_cuda=False, hard_decision=True)\n",
    "        codeword = polar.encode(bpsk)\n",
    "        corrupted_codewords = polar.channel(codeword, snr)\n",
    "\n",
    "        msg_bits_list.append(msg_bits.cpu().numpy())\n",
    "        bpsk_list.append(bpsk.cpu().numpy())\n",
    "        codeword_list.append(codeword.cpu().numpy())\n",
    "        corrupted_codeword_list.append(corrupted_codewords.cpu().numpy())\n",
    "\n",
    "    filename = f\"polar_dataset_N{2**n}_K{K}_SNR{snr}_bs{batch_size}.npz\"\n",
    "    np.savez(f\"polar_dataset_N{2**n}_K{K}_SNR{snr}_bs{batch_size}.npz\", msg_bits=msg_bits_list, corrupted_codeword=corrupted_codeword_list,bpsk = bpsk_list,codeword=codeword_list)\n",
    "    print(f\"Dataset saved as {filename}\")\n",
    "    "
   ]
  },
  {
   "cell_type": "code",
   "execution_count": 4,
   "metadata": {},
   "outputs": [
    {
     "name": "stdout",
     "output_type": "stream",
     "text": [
      "Dataset saved as polar_dataset_N32_K16_SNR1_bs1.npz\n"
     ]
    }
   ],
   "source": [
    "create_data(num_samples,batch_size,n,K,snr,rs=Reliability_Sequence)"
   ]
  },
  {
   "cell_type": "code",
   "execution_count": 3,
   "metadata": {},
   "outputs": [],
   "source": [
    "df = np.load('data_rs\\polar_dataset_N32_K16_SNR1_bs1.npz')"
   ]
  },
  {
   "cell_type": "code",
   "execution_count": 7,
   "metadata": {},
   "outputs": [
    {
     "name": "stderr",
     "output_type": "stream",
     "text": [
      "100%|██████████| 1000/1000 [00:55<00:00, 18.14it/s]\n"
     ]
    }
   ],
   "source": [
    "\n",
    "polar = PolarCode(n, K, rs = Reliability_Sequence, use_cuda=False,hard_decision=True)\n",
    "device = 'cpu'\n",
    "ber_SC_total=0\n",
    "bler_SC_total=0\n",
    "decoded_messages = []\n",
    "x=10000\n",
    "for bpsk_bits, corrupted_codeword in tqdm(zip(df['bpsk'][:x], df['corrupted_codeword'][:x]),total=len(df['bpsk'][:x])):\n",
    "    bpsk_tensor = torch.tensor(bpsk_bits, dtype=torch.float32,device=device)\n",
    "    corrupted_codeword_tensor = torch.tensor(corrupted_codeword, dtype=torch.float32,device=device)\n",
    "\n",
    "    SC_llrs, decoded_SC_msg_bits = polar.sc_decode_new(corrupted_codeword_tensor, snr=snr)\n",
    "    decoded_messages.append(decoded_SC_msg_bits)\n",
    "    ber_SC = errors_ber(bpsk_tensor,decoded_SC_msg_bits.sign()).item()\n",
    "    bler_SC = errors_bler(bpsk_tensor,decoded_SC_msg_bits.sign()).item()\n",
    "\n",
    "    ber_SC_total+=ber_SC\n",
    "    bler_SC_total+=bler_SC\n",
    "\n",
    "filename = f\"decodedbits_N{2**n}_K{K}_SNR{snr}_bs{batch_size}.npz\"\n",
    "np.savez(f\"decodedbits_N{2**n}_K{K}_SNR{snr}_bs{batch_size}.npz\", decoded_msg_bits = decoded_messages)"
   ]
  },
  {
   "cell_type": "code",
   "execution_count": 8,
   "metadata": {},
   "outputs": [
    {
     "data": {
      "text/plain": [
       "(0.1066875, 0.255)"
      ]
     },
     "execution_count": 8,
     "metadata": {},
     "output_type": "execute_result"
    }
   ],
   "source": [
    "ber_SC_total/len(df['msg_bits']),bler_SC_total/len(df['msg_bits'])"
   ]
  },
  {
   "cell_type": "code",
   "execution_count": 4,
   "metadata": {},
   "outputs": [],
   "source": [
    "df_decoded= np.load('data_rs\\decodedbits_N32_K16_SNR1_bs1.npz')"
   ]
  },
  {
   "cell_type": "code",
   "execution_count": 7,
   "metadata": {},
   "outputs": [],
   "source": [
    "class PolarDataset(torch.utils.data.Dataset):\n",
    "    def __init__(self,df,df_decoded):\n",
    "        polar = PolarCode(n, K, rs = Reliability_Sequence, Fr=None, use_cuda=False, hard_decision=True)\n",
    "        self.msg_bits = torch.tensor(df['msg_bits'])\n",
    "        self.bpsk = torch.tensor(df['bpsk'])\n",
    "        self.corrupted_codeword = torch.tensor(df['corrupted_codeword'])\n",
    "        self.codeword = torch.tensor(df['codeword'])\n",
    "        self.decoded_bits = torch.tensor(df_decoded['decoded_msg_bits'])\n",
    "        encoded_msg_bits_decoded = polar.encode(torch.tensor(df_decoded['decoded_msg_bits']).squeeze(1))\n",
    "        self.new_data = torch.cat([encoded_msg_bits_decoded.unsqueeze(-1)/2,self.corrupted_codeword.squeeze(1).unsqueeze(-1)],dim=-1)\n",
    "    def __len__(self):\n",
    "        return len(self.msg_bits)\n",
    "    \n",
    "    def __getitem__(self, idx):\n",
    "        msg_bits = self.msg_bits[idx]\n",
    "        bpsk_bits = self.bpsk[idx]\n",
    "        corrupted_codeword = self.corrupted_codeword[idx]\n",
    "        codeword = self.codeword[idx]\n",
    "        new_data = self.new_data[idx]\n",
    "\n",
    "        return msg_bits,bpsk_bits,corrupted_codeword,codeword,new_data"
   ]
  },
  {
   "cell_type": "code",
   "execution_count": 8,
   "metadata": {},
   "outputs": [],
   "source": [
    "dataset = PolarDataset(df,df_decoded)"
   ]
  },
  {
   "cell_type": "code",
   "execution_count": 22,
   "metadata": {},
   "outputs": [],
   "source": [
    "dataloader = torch.utils.data.DataLoader(dataset,batch_size=64,shuffle=True)\n",
    "msg,bpsk,corrupt,codeword,new = next(iter(dataloader))\n",
    "# msg[0],bpsk[0],corrupt[0],codeword[0],new[0]"
   ]
  },
  {
   "cell_type": "code",
   "execution_count": 23,
   "metadata": {},
   "outputs": [],
   "source": [
    "class PolarNet(nn.Module):\n",
    "    def __init__(self,hidden_channels,K):\n",
    "        super().__init__()\n",
    "\n",
    "        self.cnn = nn.Conv2d(1,hidden_channels,kernel_size = (1,2),stride=1)\n",
    "        # self.fc1 = nn.Linear(hidden_channels, 64)\n",
    "        self.fc = nn.Linear(hidden_channels*N,K)\n",
    "\n",
    "    def forward(self,x):\n",
    "        x = x.unsqueeze(0).unsqueeze(0)\n",
    "        x = torch.nn.functional.relu(self.cnn(x)) #[1,128,32,1]\n",
    "        x = x.squeeze(-1) #[1,hidden_channels,32]\n",
    "        x = x.view(x.shape[0], -1)\n",
    "        x = self.fc(x)  #logits #[1,K]\n",
    "\n",
    "        return x"
   ]
  },
  {
   "cell_type": "code",
   "execution_count": 24,
   "metadata": {},
   "outputs": [],
   "source": [
    "device = 'cuda'\n",
    "model = PolarNet(hidden_channels=128,K=K).to(device)\n",
    "criterion = nn.BCEWithLogitsLoss()\n",
    "# criterion = nn.HingeEmbeddingLoss()\n",
    "optimizer = torch.optim.Adam(model.parameters(), lr=3e-4)"
   ]
  },
  {
   "cell_type": "code",
   "execution_count": 73,
   "metadata": {},
   "outputs": [],
   "source": [
    "def calculate_ber_bler(predictions, targets):\n",
    "    \"\"\" Calculate BER and BLER using errors_ber and errors_bler functions. \"\"\"\n",
    "    ber = errors_ber(targets, predictions.sign()).item()\n",
    "    bler = errors_bler(targets, predictions.sign()).item()\n",
    "    return ber, bler"
   ]
  },
  {
   "cell_type": "code",
   "execution_count": 26,
   "metadata": {},
   "outputs": [
    {
     "name": "stderr",
     "output_type": "stream",
     "text": [
      "  0%|          | 0/16 [00:00<?, ?it/s]"
     ]
    },
    {
     "name": "stdout",
     "output_type": "stream",
     "text": [
      "torch.Size([64, 1, 32])\n"
     ]
    },
    {
     "name": "stderr",
     "output_type": "stream",
     "text": [
      "\n"
     ]
    },
    {
     "ename": "RuntimeError",
     "evalue": "Expected 3D (unbatched) or 4D (batched) input to conv2d, but got input of size: [1, 1, 64, 1, 32]",
     "output_type": "error",
     "traceback": [
      "\u001b[1;31m---------------------------------------------------------------------------\u001b[0m",
      "\u001b[1;31mRuntimeError\u001b[0m                              Traceback (most recent call last)",
      "Cell \u001b[1;32mIn[26], line 21\u001b[0m\n\u001b[0;32m     19\u001b[0m optimizer\u001b[38;5;241m.\u001b[39mzero_grad()\n\u001b[0;32m     20\u001b[0m \u001b[38;5;28mprint\u001b[39m(corrupted_codeword\u001b[38;5;241m.\u001b[39mshape)\n\u001b[1;32m---> 21\u001b[0m final_predictions \u001b[38;5;241m=\u001b[39m \u001b[43mmodel\u001b[49m\u001b[43m(\u001b[49m\u001b[43mcorrupted_codeword\u001b[49m\u001b[38;5;241;43m.\u001b[39;49m\u001b[43mto\u001b[49m\u001b[43m(\u001b[49m\u001b[43mdevice\u001b[49m\u001b[43m)\u001b[49m\u001b[43m)\u001b[49m\n\u001b[0;32m     22\u001b[0m \u001b[38;5;66;03m# print(final_predictions.shape)\u001b[39;00m\n\u001b[0;32m     23\u001b[0m bce_loss \u001b[38;5;241m=\u001b[39m criterion(final_predictions, msg)\n",
      "File \u001b[1;32mc:\\Users\\pratyush\\miniconda3\\envs\\fyp\\lib\\site-packages\\torch\\nn\\modules\\module.py:1739\u001b[0m, in \u001b[0;36mModule._wrapped_call_impl\u001b[1;34m(self, *args, **kwargs)\u001b[0m\n\u001b[0;32m   1737\u001b[0m     \u001b[38;5;28;01mreturn\u001b[39;00m \u001b[38;5;28mself\u001b[39m\u001b[38;5;241m.\u001b[39m_compiled_call_impl(\u001b[38;5;241m*\u001b[39margs, \u001b[38;5;241m*\u001b[39m\u001b[38;5;241m*\u001b[39mkwargs)  \u001b[38;5;66;03m# type: ignore[misc]\u001b[39;00m\n\u001b[0;32m   1738\u001b[0m \u001b[38;5;28;01melse\u001b[39;00m:\n\u001b[1;32m-> 1739\u001b[0m     \u001b[38;5;28;01mreturn\u001b[39;00m \u001b[38;5;28mself\u001b[39m\u001b[38;5;241m.\u001b[39m_call_impl(\u001b[38;5;241m*\u001b[39margs, \u001b[38;5;241m*\u001b[39m\u001b[38;5;241m*\u001b[39mkwargs)\n",
      "File \u001b[1;32mc:\\Users\\pratyush\\miniconda3\\envs\\fyp\\lib\\site-packages\\torch\\nn\\modules\\module.py:1750\u001b[0m, in \u001b[0;36mModule._call_impl\u001b[1;34m(self, *args, **kwargs)\u001b[0m\n\u001b[0;32m   1745\u001b[0m \u001b[38;5;66;03m# If we don't have any hooks, we want to skip the rest of the logic in\u001b[39;00m\n\u001b[0;32m   1746\u001b[0m \u001b[38;5;66;03m# this function, and just call forward.\u001b[39;00m\n\u001b[0;32m   1747\u001b[0m \u001b[38;5;28;01mif\u001b[39;00m \u001b[38;5;129;01mnot\u001b[39;00m (\u001b[38;5;28mself\u001b[39m\u001b[38;5;241m.\u001b[39m_backward_hooks \u001b[38;5;129;01mor\u001b[39;00m \u001b[38;5;28mself\u001b[39m\u001b[38;5;241m.\u001b[39m_backward_pre_hooks \u001b[38;5;129;01mor\u001b[39;00m \u001b[38;5;28mself\u001b[39m\u001b[38;5;241m.\u001b[39m_forward_hooks \u001b[38;5;129;01mor\u001b[39;00m \u001b[38;5;28mself\u001b[39m\u001b[38;5;241m.\u001b[39m_forward_pre_hooks\n\u001b[0;32m   1748\u001b[0m         \u001b[38;5;129;01mor\u001b[39;00m _global_backward_pre_hooks \u001b[38;5;129;01mor\u001b[39;00m _global_backward_hooks\n\u001b[0;32m   1749\u001b[0m         \u001b[38;5;129;01mor\u001b[39;00m _global_forward_hooks \u001b[38;5;129;01mor\u001b[39;00m _global_forward_pre_hooks):\n\u001b[1;32m-> 1750\u001b[0m     \u001b[38;5;28;01mreturn\u001b[39;00m forward_call(\u001b[38;5;241m*\u001b[39margs, \u001b[38;5;241m*\u001b[39m\u001b[38;5;241m*\u001b[39mkwargs)\n\u001b[0;32m   1752\u001b[0m result \u001b[38;5;241m=\u001b[39m \u001b[38;5;28;01mNone\u001b[39;00m\n\u001b[0;32m   1753\u001b[0m called_always_called_hooks \u001b[38;5;241m=\u001b[39m \u001b[38;5;28mset\u001b[39m()\n",
      "Cell \u001b[1;32mIn[23], line 11\u001b[0m, in \u001b[0;36mPolarNet.forward\u001b[1;34m(self, x)\u001b[0m\n\u001b[0;32m      9\u001b[0m \u001b[38;5;28;01mdef\u001b[39;00m\u001b[38;5;250m \u001b[39m\u001b[38;5;21mforward\u001b[39m(\u001b[38;5;28mself\u001b[39m,x):\n\u001b[0;32m     10\u001b[0m     x \u001b[38;5;241m=\u001b[39m x\u001b[38;5;241m.\u001b[39munsqueeze(\u001b[38;5;241m0\u001b[39m)\u001b[38;5;241m.\u001b[39munsqueeze(\u001b[38;5;241m0\u001b[39m)\n\u001b[1;32m---> 11\u001b[0m     x \u001b[38;5;241m=\u001b[39m torch\u001b[38;5;241m.\u001b[39mnn\u001b[38;5;241m.\u001b[39mfunctional\u001b[38;5;241m.\u001b[39mrelu(\u001b[38;5;28;43mself\u001b[39;49m\u001b[38;5;241;43m.\u001b[39;49m\u001b[43mcnn\u001b[49m\u001b[43m(\u001b[49m\u001b[43mx\u001b[49m\u001b[43m)\u001b[49m) \u001b[38;5;66;03m#[1,128,32,1]\u001b[39;00m\n\u001b[0;32m     12\u001b[0m     x \u001b[38;5;241m=\u001b[39m x\u001b[38;5;241m.\u001b[39msqueeze(\u001b[38;5;241m-\u001b[39m\u001b[38;5;241m1\u001b[39m) \u001b[38;5;66;03m#[1,hidden_channels,32]\u001b[39;00m\n\u001b[0;32m     13\u001b[0m     x \u001b[38;5;241m=\u001b[39m x\u001b[38;5;241m.\u001b[39mview(x\u001b[38;5;241m.\u001b[39mshape[\u001b[38;5;241m0\u001b[39m], \u001b[38;5;241m-\u001b[39m\u001b[38;5;241m1\u001b[39m)\n",
      "File \u001b[1;32mc:\\Users\\pratyush\\miniconda3\\envs\\fyp\\lib\\site-packages\\torch\\nn\\modules\\module.py:1739\u001b[0m, in \u001b[0;36mModule._wrapped_call_impl\u001b[1;34m(self, *args, **kwargs)\u001b[0m\n\u001b[0;32m   1737\u001b[0m     \u001b[38;5;28;01mreturn\u001b[39;00m \u001b[38;5;28mself\u001b[39m\u001b[38;5;241m.\u001b[39m_compiled_call_impl(\u001b[38;5;241m*\u001b[39margs, \u001b[38;5;241m*\u001b[39m\u001b[38;5;241m*\u001b[39mkwargs)  \u001b[38;5;66;03m# type: ignore[misc]\u001b[39;00m\n\u001b[0;32m   1738\u001b[0m \u001b[38;5;28;01melse\u001b[39;00m:\n\u001b[1;32m-> 1739\u001b[0m     \u001b[38;5;28;01mreturn\u001b[39;00m \u001b[38;5;28mself\u001b[39m\u001b[38;5;241m.\u001b[39m_call_impl(\u001b[38;5;241m*\u001b[39margs, \u001b[38;5;241m*\u001b[39m\u001b[38;5;241m*\u001b[39mkwargs)\n",
      "File \u001b[1;32mc:\\Users\\pratyush\\miniconda3\\envs\\fyp\\lib\\site-packages\\torch\\nn\\modules\\module.py:1750\u001b[0m, in \u001b[0;36mModule._call_impl\u001b[1;34m(self, *args, **kwargs)\u001b[0m\n\u001b[0;32m   1745\u001b[0m \u001b[38;5;66;03m# If we don't have any hooks, we want to skip the rest of the logic in\u001b[39;00m\n\u001b[0;32m   1746\u001b[0m \u001b[38;5;66;03m# this function, and just call forward.\u001b[39;00m\n\u001b[0;32m   1747\u001b[0m \u001b[38;5;28;01mif\u001b[39;00m \u001b[38;5;129;01mnot\u001b[39;00m (\u001b[38;5;28mself\u001b[39m\u001b[38;5;241m.\u001b[39m_backward_hooks \u001b[38;5;129;01mor\u001b[39;00m \u001b[38;5;28mself\u001b[39m\u001b[38;5;241m.\u001b[39m_backward_pre_hooks \u001b[38;5;129;01mor\u001b[39;00m \u001b[38;5;28mself\u001b[39m\u001b[38;5;241m.\u001b[39m_forward_hooks \u001b[38;5;129;01mor\u001b[39;00m \u001b[38;5;28mself\u001b[39m\u001b[38;5;241m.\u001b[39m_forward_pre_hooks\n\u001b[0;32m   1748\u001b[0m         \u001b[38;5;129;01mor\u001b[39;00m _global_backward_pre_hooks \u001b[38;5;129;01mor\u001b[39;00m _global_backward_hooks\n\u001b[0;32m   1749\u001b[0m         \u001b[38;5;129;01mor\u001b[39;00m _global_forward_hooks \u001b[38;5;129;01mor\u001b[39;00m _global_forward_pre_hooks):\n\u001b[1;32m-> 1750\u001b[0m     \u001b[38;5;28;01mreturn\u001b[39;00m forward_call(\u001b[38;5;241m*\u001b[39margs, \u001b[38;5;241m*\u001b[39m\u001b[38;5;241m*\u001b[39mkwargs)\n\u001b[0;32m   1752\u001b[0m result \u001b[38;5;241m=\u001b[39m \u001b[38;5;28;01mNone\u001b[39;00m\n\u001b[0;32m   1753\u001b[0m called_always_called_hooks \u001b[38;5;241m=\u001b[39m \u001b[38;5;28mset\u001b[39m()\n",
      "File \u001b[1;32mc:\\Users\\pratyush\\miniconda3\\envs\\fyp\\lib\\site-packages\\torch\\nn\\modules\\conv.py:554\u001b[0m, in \u001b[0;36mConv2d.forward\u001b[1;34m(self, input)\u001b[0m\n\u001b[0;32m    553\u001b[0m \u001b[38;5;28;01mdef\u001b[39;00m\u001b[38;5;250m \u001b[39m\u001b[38;5;21mforward\u001b[39m(\u001b[38;5;28mself\u001b[39m, \u001b[38;5;28minput\u001b[39m: Tensor) \u001b[38;5;241m-\u001b[39m\u001b[38;5;241m>\u001b[39m Tensor:\n\u001b[1;32m--> 554\u001b[0m     \u001b[38;5;28;01mreturn\u001b[39;00m \u001b[38;5;28;43mself\u001b[39;49m\u001b[38;5;241;43m.\u001b[39;49m\u001b[43m_conv_forward\u001b[49m\u001b[43m(\u001b[49m\u001b[38;5;28;43minput\u001b[39;49m\u001b[43m,\u001b[49m\u001b[43m \u001b[49m\u001b[38;5;28;43mself\u001b[39;49m\u001b[38;5;241;43m.\u001b[39;49m\u001b[43mweight\u001b[49m\u001b[43m,\u001b[49m\u001b[43m \u001b[49m\u001b[38;5;28;43mself\u001b[39;49m\u001b[38;5;241;43m.\u001b[39;49m\u001b[43mbias\u001b[49m\u001b[43m)\u001b[49m\n",
      "File \u001b[1;32mc:\\Users\\pratyush\\miniconda3\\envs\\fyp\\lib\\site-packages\\torch\\nn\\modules\\conv.py:549\u001b[0m, in \u001b[0;36mConv2d._conv_forward\u001b[1;34m(self, input, weight, bias)\u001b[0m\n\u001b[0;32m    537\u001b[0m \u001b[38;5;28;01mif\u001b[39;00m \u001b[38;5;28mself\u001b[39m\u001b[38;5;241m.\u001b[39mpadding_mode \u001b[38;5;241m!=\u001b[39m \u001b[38;5;124m\"\u001b[39m\u001b[38;5;124mzeros\u001b[39m\u001b[38;5;124m\"\u001b[39m:\n\u001b[0;32m    538\u001b[0m     \u001b[38;5;28;01mreturn\u001b[39;00m F\u001b[38;5;241m.\u001b[39mconv2d(\n\u001b[0;32m    539\u001b[0m         F\u001b[38;5;241m.\u001b[39mpad(\n\u001b[0;32m    540\u001b[0m             \u001b[38;5;28minput\u001b[39m, \u001b[38;5;28mself\u001b[39m\u001b[38;5;241m.\u001b[39m_reversed_padding_repeated_twice, mode\u001b[38;5;241m=\u001b[39m\u001b[38;5;28mself\u001b[39m\u001b[38;5;241m.\u001b[39mpadding_mode\n\u001b[1;32m   (...)\u001b[0m\n\u001b[0;32m    547\u001b[0m         \u001b[38;5;28mself\u001b[39m\u001b[38;5;241m.\u001b[39mgroups,\n\u001b[0;32m    548\u001b[0m     )\n\u001b[1;32m--> 549\u001b[0m \u001b[38;5;28;01mreturn\u001b[39;00m \u001b[43mF\u001b[49m\u001b[38;5;241;43m.\u001b[39;49m\u001b[43mconv2d\u001b[49m\u001b[43m(\u001b[49m\n\u001b[0;32m    550\u001b[0m \u001b[43m    \u001b[49m\u001b[38;5;28;43minput\u001b[39;49m\u001b[43m,\u001b[49m\u001b[43m \u001b[49m\u001b[43mweight\u001b[49m\u001b[43m,\u001b[49m\u001b[43m \u001b[49m\u001b[43mbias\u001b[49m\u001b[43m,\u001b[49m\u001b[43m \u001b[49m\u001b[38;5;28;43mself\u001b[39;49m\u001b[38;5;241;43m.\u001b[39;49m\u001b[43mstride\u001b[49m\u001b[43m,\u001b[49m\u001b[43m \u001b[49m\u001b[38;5;28;43mself\u001b[39;49m\u001b[38;5;241;43m.\u001b[39;49m\u001b[43mpadding\u001b[49m\u001b[43m,\u001b[49m\u001b[43m \u001b[49m\u001b[38;5;28;43mself\u001b[39;49m\u001b[38;5;241;43m.\u001b[39;49m\u001b[43mdilation\u001b[49m\u001b[43m,\u001b[49m\u001b[43m \u001b[49m\u001b[38;5;28;43mself\u001b[39;49m\u001b[38;5;241;43m.\u001b[39;49m\u001b[43mgroups\u001b[49m\n\u001b[0;32m    551\u001b[0m \u001b[43m\u001b[49m\u001b[43m)\u001b[49m\n",
      "\u001b[1;31mRuntimeError\u001b[0m: Expected 3D (unbatched) or 4D (batched) input to conv2d, but got input of size: [1, 1, 64, 1, 32]"
     ]
    }
   ],
   "source": [
    "num_epochs = 50\n",
    "patience = 50  # Early stopping patience\n",
    "best_loss = float('inf')\n",
    "trigger_times = 0\n",
    "\n",
    "polar = PolarCode(n, K, rs = Reliability_Sequence, use_cuda=True,hard_decision=True)\n",
    "loss_values = []\n",
    "ber_values = []\n",
    "bler_values=[]\n",
    "for epoch in range(num_epochs):\n",
    "    model.train()\n",
    "    total_loss, total_ber, total_bler = 0, 0, 0\n",
    "\n",
    "    for msg,bpsk,corrupted_codeword,_,new_data in tqdm(dataloader):\n",
    "\n",
    "        # SC_llrs, decoded_SC_msg_bits = polar.sc_decode_new(corrupted_codeword_tensor, snr=snr)\n",
    "        # decoded_bits_encoded = polar.encode(decoded_SC_msg_bits)\n",
    "        \n",
    "        optimizer.zero_grad()\n",
    "        print(corrupted_codeword.shape)\n",
    "        final_predictions = model(corrupted_codeword.to(device))\n",
    "        # print(final_predictions.shape)\n",
    "        bce_loss = criterion(final_predictions, msg)\n",
    "\n",
    "        loss = bce_loss\n",
    "        loss.backward()\n",
    "\n",
    "        optimizer.step()\n",
    "        \n",
    "        total_loss += loss.item()\n",
    "        ber, bler = calculate_ber_bler((torch.sigmoid(final_predictions)>0.5).float(), msg)\n",
    "        total_ber += ber\n",
    "        total_bler += bler\n",
    "\n",
    "    # Compute average loss and error rates\n",
    "    avg_loss = total_loss / len(dataset)\n",
    "    avg_ber = total_ber / len(dataset)\n",
    "    avg_bler = total_bler / len(dataset)\n",
    "\n",
    "    loss_values.append(avg_loss)\n",
    "    ber_values.append(avg_ber)\n",
    "    bler_values.append(avg_bler)\n",
    "\n",
    "    # Early stopping check\n",
    "    if avg_loss < best_loss:\n",
    "        best_loss = avg_loss\n",
    "        trigger_times = 0\n",
    "        \n",
    "        ckpt_path = rf'weights_rs\\N_{N}_K_{K}_SNR_{snr}_polarnet'\n",
    "        os.makedirs(ckpt_path,exist_ok=True)\n",
    "        torch.save(model.state_dict(), os.path.join(ckpt_path,f'epoch_{epoch}.pth'))\n",
    "    else:\n",
    "        trigger_times += 1\n",
    "        if trigger_times >= patience:\n",
    "            print(\"Early stopping triggered!\")\n",
    "            break\n",
    "\n",
    "    # Logging progress every 3 epochs\n",
    "    if (epoch + 1) % 3 == 0:\n",
    "        print(f\"Epoch {epoch + 1}/{num_epochs}, Loss: {avg_loss:.4f}, BER: {avg_ber:.4f}, BLER: {avg_bler:.4f}\")\n",
    "\n",
    "print(\"Training complete.\")\n",
    "\n"
   ]
  },
  {
   "cell_type": "code",
   "execution_count": 78,
   "metadata": {},
   "outputs": [
    {
     "data": {
      "image/png": "[encoded data removed]",
      "text/plain": [
       "<Figure size 640x480 with 3 Axes>"
      ]
     },
     "metadata": {},
     "output_type": "display_data"
    }
   ],
   "source": [
    "plt.suptitle('convergence plot for cci decoder for N=32,K=16 and snr=1dB')\n",
    "# Plot Loss vs Epochs\n",
    "plt.subplot(1, 3, 1)\n",
    "plt.plot(loss_values, label='Loss')\n",
    "plt.title('Loss vs Epochs')\n",
    "plt.xlabel('Epochs')\n",
    "plt.ylabel('Train Loss')\n",
    "plt.legend()\n",
    "\n",
    "# Plot BER vs Epochs\n",
    "plt.subplot(1, 3, 2)\n",
    "plt.plot(ber_values, label='BER', color='orange')\n",
    "plt.title('BER vs Epochs')\n",
    "plt.xlabel('Epochs')\n",
    "plt.ylabel('BER')\n",
    "plt.legend()\n",
    "\n",
    "# Plot BLER vs Epochs\n",
    "\n",
    "plt.subplot(1, 3, 3)\n",
    "plt.plot(bler_values, label='BLER', color='green')\n",
    "plt.title('BLER vs Epochs')\n",
    "plt.xlabel('Epochs')\n",
    "plt.ylabel('BLER')\n",
    "plt.legend()\n",
    "\n",
    "plt.tight_layout()\n",
    "plt.show()"
   ]
  },
  {
   "cell_type": "code",
   "execution_count": 83,
   "metadata": {},
   "outputs": [
    {
     "name": "stdout",
     "output_type": "stream",
     "text": [
      "final_predictions tensor([[1., 0., 0., 1., 0., 1., 0., 1., 0., 0., 1., 0., 0., 1., 1., 0.]],\n",
      "       device='cuda:0')\n",
      "msg_tensor tensor([[1., 0., 0., 1., 1., 1., 0., 1., 0., 1., 1., 1., 0., 1., 1., 0.]],\n",
      "       device='cuda:0')\n",
      "decoded incorrectly\n",
      "----------\n",
      "final_predictions tensor([[1., 0., 1., 1., 1., 1., 0., 0., 0., 0., 1., 1., 0., 1., 0., 1.]],\n",
      "       device='cuda:0')\n",
      "msg_tensor tensor([[1., 0., 1., 0., 1., 0., 0., 0., 0., 0., 0., 1., 0., 1., 0., 1.]],\n",
      "       device='cuda:0')\n",
      "decoded incorrectly\n",
      "----------\n",
      "final_predictions tensor([[1., 0., 1., 1., 0., 1., 1., 1., 0., 1., 0., 1., 0., 0., 0., 1.]],\n",
      "       device='cuda:0')\n",
      "msg_tensor tensor([[1., 1., 1., 1., 1., 1., 1., 1., 0., 1., 0., 0., 0., 1., 0., 1.]],\n",
      "       device='cuda:0')\n",
      "decoded incorrectly\n",
      "----------\n",
      "final_predictions tensor([[1., 0., 1., 1., 1., 1., 0., 1., 0., 0., 1., 1., 0., 1., 1., 1.]],\n",
      "       device='cuda:0')\n",
      "msg_tensor tensor([[0., 0., 1., 0., 0., 1., 0., 1., 0., 0., 1., 1., 0., 0., 1., 1.]],\n",
      "       device='cuda:0')\n",
      "decoded incorrectly\n",
      "----------\n",
      "final_predictions tensor([[1., 1., 1., 0., 0., 1., 0., 1., 1., 0., 0., 0., 0., 1., 1., 0.]],\n",
      "       device='cuda:0')\n",
      "msg_tensor tensor([[1., 0., 0., 1., 0., 1., 0., 1., 1., 1., 0., 1., 1., 1., 1., 0.]],\n",
      "       device='cuda:0')\n",
      "decoded incorrectly\n",
      "----------\n",
      "Test Results - BER: 0.2181, BLER: 0.9700\n"
     ]
    }
   ],
   "source": [
    "ber_total,bler_total = 0,0\n",
    "test_loader = df['msg_bits'][900:]\n",
    "count = 0\n",
    "with torch.no_grad():\n",
    "    model.eval()\n",
    "    for msg_bits, data in zip(df['msg_bits'][900:], new_data[900:]):\n",
    "        count += 1\n",
    "        msg_tensor = torch.tensor(msg_bits, dtype=torch.float32).to(device)\n",
    "        data = data.to(device)\n",
    "        # corrupted_codeword_tensor = torch.tensor(corrupted_codeword, dtype=torch.float32).to(device)\n",
    "\n",
    "        final_predictions = model(data)\n",
    "        if (count%20==0):\n",
    "            print(f'final_predictions {(final_predictions>=0).float()}')\n",
    "            print(f'msg_tensor {msg_tensor}')\n",
    "            if((final_predictions>0).float()==msg_tensor).all():\n",
    "                print('decoded correctly')\n",
    "            else:\n",
    "                print('decoded incorrectly')\n",
    "            print('----------')\n",
    "        ber,bler = calculate_ber_bler((final_predictions>=0).float(),msg_tensor)\n",
    "        ber_total += ber\n",
    "        bler_total += bler\n",
    "    avg_ber = ber_total / len(test_loader)\n",
    "    avg_bler = bler_total / len(test_loader)\n",
    "    print(f\"Test Results - BER: {avg_ber:.4f}, BLER: {avg_bler:.4f}\")"
   ]
  },
  {
   "cell_type": "code",
   "execution_count": null,
   "metadata": {},
   "outputs": [],
   "source": []
  },
  {
   "cell_type": "code",
   "execution_count": 77,
   "metadata": {},
   "outputs": [
    {
     "data": {
      "text/plain": [
       "(tensor([[1., 1., 1., 0., 0., 1., 0., 1., 1., 0., 0., 0., 0., 1., 1., 0.]],\n",
       "        device='cuda:0'),\n",
       " tensor([[1., 1., 1., 0., 0., 1., 0., 1., 1., 0., 0., 0., 0., 1., 1., 0.]],\n",
       "        device='cuda:0'),\n",
       " tensor([[1., 0., 0., 1., 0., 1., 0., 1., 1., 1., 0., 1., 1., 1., 1., 0.]],\n",
       "        device='cuda:0'),\n",
       " tensor([[ 0.5000,  0.5867],\n",
       "         [ 0.5000, -0.6717],\n",
       "         [-0.5000, -1.3406],\n",
       "         [-0.5000,  0.2034],\n",
       "         [-0.5000, -1.5795],\n",
       "         [-0.5000, -1.9162],\n",
       "         [-0.5000, -0.8167],\n",
       "         [-0.5000, -1.2519],\n",
       "         [ 0.5000,  0.9523],\n",
       "         [-0.5000, -1.2641],\n",
       "         [-0.5000,  0.1596],\n",
       "         [ 0.5000,  0.6466],\n",
       "         [ 0.5000,  1.8391],\n",
       "         [-0.5000, -1.2447],\n",
       "         [ 0.5000,  1.6245],\n",
       "         [-0.5000,  0.6077],\n",
       "         [ 0.5000,  3.0681],\n",
       "         [ 0.5000, -1.3620],\n",
       "         [-0.5000, -0.7121],\n",
       "         [-0.5000, -0.3346],\n",
       "         [-0.5000, -0.0464],\n",
       "         [-0.5000,  0.4399],\n",
       "         [-0.5000, -2.1260],\n",
       "         [-0.5000, -0.4706],\n",
       "         [-0.5000, -0.2654],\n",
       "         [ 0.5000, -0.3520],\n",
       "         [ 0.5000,  0.8850],\n",
       "         [-0.5000, -1.7032],\n",
       "         [-0.5000, -1.6882],\n",
       "         [ 0.5000,  0.3388],\n",
       "         [-0.5000, -1.0545],\n",
       "         [ 0.5000,  1.6752]], device='cuda:0'))"
      ]
     },
     "execution_count": 77,
     "metadata": {},
     "output_type": "execute_result"
    }
   ],
   "source": [
    "(torch.sigmoid(final_predictions)>0.5).float(),(final_predictions>=0).float(), msg_tensor, data"
   ]
  },
  {
   "cell_type": "code",
   "execution_count": 92,
   "metadata": {},
   "outputs": [
    {
     "name": "stderr",
     "output_type": "stream",
     "text": [
      "100%|██████████| 1000/1000 [02:48<00:00,  5.95it/s]\n"
     ]
    },
    {
     "name": "stdout",
     "output_type": "stream",
     "text": [
      "Epoch 1/50, Loss: 1.3814, BER: 0.5026, BLER: 1.0000\n"
     ]
    },
    {
     "name": "stderr",
     "output_type": "stream",
     "text": [
      "100%|██████████| 1000/1000 [02:59<00:00,  5.56it/s]\n"
     ]
    },
    {
     "name": "stdout",
     "output_type": "stream",
     "text": [
      "Epoch 2/50, Loss: 0.6945, BER: 0.5027, BLER: 1.0000\n"
     ]
    },
    {
     "name": "stderr",
     "output_type": "stream",
     "text": [
      "100%|██████████| 1000/1000 [02:58<00:00,  5.61it/s]\n"
     ]
    },
    {
     "name": "stdout",
     "output_type": "stream",
     "text": [
      "Epoch 3/50, Loss: 0.6945, BER: 0.5025, BLER: 1.0000\n"
     ]
    },
    {
     "name": "stderr",
     "output_type": "stream",
     "text": [
      "  4%|▍         | 42/1000 [00:07<02:46,  5.75it/s]\n"
     ]
    },
    {
     "ename": "KeyboardInterrupt",
     "evalue": "",
     "output_type": "error",
     "traceback": [
      "\u001b[1;31m---------------------------------------------------------------------------\u001b[0m",
      "\u001b[1;31mKeyboardInterrupt\u001b[0m                         Traceback (most recent call last)",
      "Cell \u001b[1;32mIn[92], line 37\u001b[0m\n\u001b[0;32m     34\u001b[0m original_msg_tensor \u001b[38;5;241m=\u001b[39m torch\u001b[38;5;241m.\u001b[39mtensor(original_msg, dtype\u001b[38;5;241m=\u001b[39mtorch\u001b[38;5;241m.\u001b[39mfloat32)\u001b[38;5;241m.\u001b[39mto(device)\n\u001b[0;32m     36\u001b[0m \u001b[38;5;66;03m# SC Decoding\u001b[39;00m\n\u001b[1;32m---> 37\u001b[0m SC_llrs, decoded_SC_msg_bits \u001b[38;5;241m=\u001b[39m \u001b[43mpolar\u001b[49m\u001b[38;5;241;43m.\u001b[39;49m\u001b[43msc_decode_new\u001b[49m\u001b[43m(\u001b[49m\u001b[43mcorrupted_tensor\u001b[49m\u001b[43m,\u001b[49m\u001b[43m \u001b[49m\u001b[43msnr\u001b[49m\u001b[38;5;241;43m=\u001b[39;49m\u001b[43msnr\u001b[49m\u001b[43m)\u001b[49m\n\u001b[0;32m     38\u001b[0m \u001b[38;5;66;03m# SC_llrs = SC_llrs.unsqueeze(0)\u001b[39;00m\n\u001b[0;32m     39\u001b[0m \n\u001b[0;32m     40\u001b[0m \u001b[38;5;66;03m# Feature Engineering (Concatenating SC LLRs and Frozen Bit Mask)\u001b[39;00m\n\u001b[0;32m     41\u001b[0m input_features \u001b[38;5;241m=\u001b[39m torch\u001b[38;5;241m.\u001b[39mcat([SC_llrs, frozen_bits_mask], dim\u001b[38;5;241m=\u001b[39m\u001b[38;5;241m1\u001b[39m) \u001b[38;5;66;03m# # Concatenation along feature axis\u001b[39;00m\n",
      "File \u001b[1;32mc:\\Users\\pratyush\\Desktop\\FYP\\PolarNet\\polar.py:199\u001b[0m, in \u001b[0;36mPolarCode.sc_decode_new\u001b[1;34m(self, corrupted_codewords, snr, use_gt, channel)\u001b[0m\n\u001b[0;32m    197\u001b[0m         u_hat[:, ii] \u001b[38;5;241m=\u001b[39m use_gt[:, ii]\n\u001b[0;32m    198\u001b[0m     \u001b[38;5;66;03m#start = time.time()\u001b[39;00m\n\u001b[1;32m--> 199\u001b[0m     partial_llrs \u001b[38;5;241m=\u001b[39m \u001b[38;5;28;43mself\u001b[39;49m\u001b[38;5;241;43m.\u001b[39;49m\u001b[43mupdatePartialSums\u001b[49m\u001b[43m(\u001b[49m\u001b[43mii\u001b[49m\u001b[43m,\u001b[49m\u001b[43m \u001b[49m\u001b[43mu_hat\u001b[49m\u001b[43m,\u001b[49m\u001b[43m \u001b[49m\u001b[43mpartial_llrs\u001b[49m\u001b[43m)\u001b[49m\n\u001b[0;32m    200\u001b[0m     \u001b[38;5;66;03m#print('SC partial: {}s, {}', time.time() - start, 'frozen' if ii in self.frozen_positions else 'info')\u001b[39;00m\n\u001b[0;32m    201\u001b[0m decoded_bits \u001b[38;5;241m=\u001b[39m u_hat[:, \u001b[38;5;28mself\u001b[39m\u001b[38;5;241m.\u001b[39minfo_positions]\n",
      "File \u001b[1;32mc:\\Users\\pratyush\\Desktop\\FYP\\PolarNet\\polar.py:171\u001b[0m, in \u001b[0;36mPolarCode.updatePartialSums\u001b[1;34m(self, leaf_position, decoded_bits, partial_llrs)\u001b[0m\n\u001b[0;32m    168\u001b[0m     num_bits \u001b[38;5;241m=\u001b[39m \u001b[38;5;241m2\u001b[39m\u001b[38;5;241m*\u001b[39m\u001b[38;5;241m*\u001b[39md\n\u001b[0;32m    169\u001b[0m     \u001b[38;5;28;01mfor\u001b[39;00m i \u001b[38;5;129;01min\u001b[39;00m np\u001b[38;5;241m.\u001b[39marange(\u001b[38;5;241m0\u001b[39m, \u001b[38;5;28mself\u001b[39m\u001b[38;5;241m.\u001b[39mN, \u001b[38;5;241m2\u001b[39m\u001b[38;5;241m*\u001b[39mnum_bits):\n\u001b[0;32m    170\u001b[0m         \u001b[38;5;66;03m# [u v] encoded to [u xor(u,v)]\u001b[39;00m\n\u001b[1;32m--> 171\u001b[0m         u \u001b[38;5;241m=\u001b[39m torch\u001b[38;5;241m.\u001b[39mcat((u[:, :i], \u001b[43mu\u001b[49m\u001b[43m[\u001b[49m\u001b[43m:\u001b[49m\u001b[43m,\u001b[49m\u001b[43m \u001b[49m\u001b[43mi\u001b[49m\u001b[43m:\u001b[49m\u001b[43mi\u001b[49m\u001b[38;5;241;43m+\u001b[39;49m\u001b[43mnum_bits\u001b[49m\u001b[43m]\u001b[49m\u001b[38;5;241;43m.\u001b[39;49m\u001b[43mclone\u001b[49m\u001b[43m(\u001b[49m\u001b[43m)\u001b[49m \u001b[38;5;241m*\u001b[39m u[:, i\u001b[38;5;241m+\u001b[39mnum_bits: i\u001b[38;5;241m+\u001b[39m\u001b[38;5;241m2\u001b[39m\u001b[38;5;241m*\u001b[39mnum_bits], u[:, i\u001b[38;5;241m+\u001b[39mnum_bits:]), dim\u001b[38;5;241m=\u001b[39m\u001b[38;5;241m1\u001b[39m)\n\u001b[0;32m    172\u001b[0m partial_llrs[:, \u001b[38;5;28mself\u001b[39m\u001b[38;5;241m.\u001b[39mn] \u001b[38;5;241m=\u001b[39m u\n\u001b[0;32m    173\u001b[0m \u001b[38;5;28;01mreturn\u001b[39;00m partial_llrs\n",
      "\u001b[1;31mKeyboardInterrupt\u001b[0m: "
     ]
    }
   ],
   "source": [
    "class PolarNet(nn.Module):\n",
    "    def __init__(self, input_dim, hidden_dim, K):\n",
    "        super(PolarNet, self).__init__()\n",
    "        self.fc1 = nn.Linear(input_dim, hidden_dim)\n",
    "        self.fc2 = nn.Linear(hidden_dim, K)\n",
    "    \n",
    "    def forward(self, x):\n",
    "        x = torch.relu(self.fc1(x))\n",
    "        x = self.fc2(x)  # No activation (logits for BCEWithLogitsLoss)\n",
    "        return x\n",
    "\n",
    "# Model Initialization\n",
    "input_dim = 32 + 16  # SC-decoded LLRs + Frozen bit mask\n",
    "hidden_dim = 128\n",
    "K = 16  # Number of message bits\n",
    "\n",
    "device = 'cuda' if torch.cuda.is_available() else 'cpu'\n",
    "model = PolarNet(input_dim, hidden_dim, K).to(device)\n",
    "criterion = nn.BCEWithLogitsLoss()\n",
    "optimizer = torch.optim.Adam(model.parameters(), lr=0.01)\n",
    "\n",
    "# Training Loop\n",
    "num_epochs = 50\n",
    "data_len = 1000  # Training samples\n",
    "frozen_bits_mask = torch.tensor(get_frozen(N,K,rs=Reliability_Sequence), dtype=torch.float32).to(device).unsqueeze(0)  # Frozen bit positions\n",
    "\n",
    "for epoch in range(num_epochs):\n",
    "    model.train()\n",
    "    total_loss = 0\n",
    "    total_ber, total_bler = 0, 0\n",
    "    \n",
    "    for corrupted_codeword, original_msg in tqdm(zip(df['corrupted_codeword'][:data_len], df['msg_bits'][:data_len]), total=data_len):\n",
    "        corrupted_tensor = torch.tensor(corrupted_codeword, dtype=torch.float32).to(device)\n",
    "        original_msg_tensor = torch.tensor(original_msg, dtype=torch.float32).to(device)\n",
    "        \n",
    "        # SC Decoding\n",
    "        SC_llrs, decoded_SC_msg_bits = polar.sc_decode_new(corrupted_tensor, snr=snr)\n",
    "        # SC_llrs = SC_llrs.unsqueeze(0)\n",
    "        \n",
    "        # Feature Engineering (Concatenating SC LLRs and Frozen Bit Mask)\n",
    "        input_features = torch.cat([SC_llrs, frozen_bits_mask], dim=1) # # Concatenation along feature axis\n",
    "        \n",
    "        optimizer.zero_grad()\n",
    "        predictions = model(input_features)  # Shape: [1, K]\n",
    "        \n",
    "        loss = criterion(predictions, original_msg_tensor)\n",
    "        loss.backward()\n",
    "        optimizer.step()\n",
    "        \n",
    "        total_loss += loss.item()\n",
    "        ber, bler = calculate_ber_bler((predictions >= 0).float(), original_msg_tensor.unsqueeze(0))\n",
    "        total_ber += ber\n",
    "        total_bler += bler\n",
    "    \n",
    "    avg_loss = total_loss / data_len\n",
    "    avg_ber = total_ber / data_len\n",
    "    avg_bler = total_bler / data_len\n",
    "    \n",
    "    print(f\"Epoch {epoch + 1}/{num_epochs}, Loss: {avg_loss:.4f}, BER: {avg_ber:.4f}, BLER: {avg_bler:.4f}\")"
   ]
  },
  {
   "cell_type": "code",
   "execution_count": 57,
   "metadata": {},
   "outputs": [
    {
     "name": "stderr",
     "output_type": "stream",
     "text": [
      "100%|██████████| 1000/1000 [02:42<00:00,  6.16it/s]\n"
     ]
    },
    {
     "name": "stdout",
     "output_type": "stream",
     "text": [
      "Epoch 1/50, Loss: 0.1571, BER: 0.4926, BLER: 1.0000\n"
     ]
    },
    {
     "name": "stderr",
     "output_type": "stream",
     "text": [
      "100%|██████████| 1000/1000 [02:48<00:00,  5.95it/s]\n"
     ]
    },
    {
     "name": "stdout",
     "output_type": "stream",
     "text": [
      "Epoch 2/50, Loss: -0.8564, BER: 0.4971, BLER: 1.0000\n"
     ]
    },
    {
     "name": "stderr",
     "output_type": "stream",
     "text": [
      " 18%|█▊        | 175/1000 [00:30<02:22,  5.77it/s]\n"
     ]
    },
    {
     "ename": "KeyboardInterrupt",
     "evalue": "",
     "output_type": "error",
     "traceback": [
      "\u001b[1;31m---------------------------------------------------------------------------\u001b[0m",
      "\u001b[1;31mKeyboardInterrupt\u001b[0m                         Traceback (most recent call last)",
      "Cell \u001b[1;32mIn[57], line 38\u001b[0m\n\u001b[0;32m     35\u001b[0m original_msg_tensor \u001b[38;5;241m=\u001b[39m torch\u001b[38;5;241m.\u001b[39mtensor(original_msg, dtype\u001b[38;5;241m=\u001b[39mtorch\u001b[38;5;241m.\u001b[39mfloat32)\u001b[38;5;241m.\u001b[39mto(device)\n\u001b[0;32m     37\u001b[0m \u001b[38;5;66;03m# SC Decoding\u001b[39;00m\n\u001b[1;32m---> 38\u001b[0m SC_llrs, decoded_SC_msg_bits \u001b[38;5;241m=\u001b[39m \u001b[43mpolar\u001b[49m\u001b[38;5;241;43m.\u001b[39;49m\u001b[43msc_decode_new\u001b[49m\u001b[43m(\u001b[49m\u001b[43mcorrupted_tensor\u001b[49m\u001b[43m,\u001b[49m\u001b[43m \u001b[49m\u001b[43msnr\u001b[49m\u001b[38;5;241;43m=\u001b[39;49m\u001b[43msnr\u001b[49m\u001b[43m)\u001b[49m\n\u001b[0;32m     39\u001b[0m SC_llrs \u001b[38;5;241m=\u001b[39m SC_llrs\u001b[38;5;241m.\u001b[39munsqueeze(\u001b[38;5;241m0\u001b[39m)  \u001b[38;5;66;03m# Ensure correct shape\u001b[39;00m\n\u001b[0;32m     41\u001b[0m \u001b[38;5;66;03m# print(SC_llrs.shape)\u001b[39;00m\n\u001b[0;32m     42\u001b[0m \u001b[38;5;66;03m# print(decoded_SC_msg_bits.shape)\u001b[39;00m\n",
      "File \u001b[1;32mc:\\Users\\pratyush\\Desktop\\FYP\\PolarNet\\polar.py:199\u001b[0m, in \u001b[0;36mPolarCode.sc_decode_new\u001b[1;34m(self, corrupted_codewords, snr, use_gt, channel)\u001b[0m\n\u001b[0;32m    197\u001b[0m         u_hat[:, ii] \u001b[38;5;241m=\u001b[39m use_gt[:, ii]\n\u001b[0;32m    198\u001b[0m     \u001b[38;5;66;03m#start = time.time()\u001b[39;00m\n\u001b[1;32m--> 199\u001b[0m     partial_llrs \u001b[38;5;241m=\u001b[39m \u001b[38;5;28;43mself\u001b[39;49m\u001b[38;5;241;43m.\u001b[39;49m\u001b[43mupdatePartialSums\u001b[49m\u001b[43m(\u001b[49m\u001b[43mii\u001b[49m\u001b[43m,\u001b[49m\u001b[43m \u001b[49m\u001b[43mu_hat\u001b[49m\u001b[43m,\u001b[49m\u001b[43m \u001b[49m\u001b[43mpartial_llrs\u001b[49m\u001b[43m)\u001b[49m\n\u001b[0;32m    200\u001b[0m     \u001b[38;5;66;03m#print('SC partial: {}s, {}', time.time() - start, 'frozen' if ii in self.frozen_positions else 'info')\u001b[39;00m\n\u001b[0;32m    201\u001b[0m decoded_bits \u001b[38;5;241m=\u001b[39m u_hat[:, \u001b[38;5;28mself\u001b[39m\u001b[38;5;241m.\u001b[39minfo_positions]\n",
      "File \u001b[1;32mc:\\Users\\pratyush\\Desktop\\FYP\\PolarNet\\polar.py:171\u001b[0m, in \u001b[0;36mPolarCode.updatePartialSums\u001b[1;34m(self, leaf_position, decoded_bits, partial_llrs)\u001b[0m\n\u001b[0;32m    168\u001b[0m     num_bits \u001b[38;5;241m=\u001b[39m \u001b[38;5;241m2\u001b[39m\u001b[38;5;241m*\u001b[39m\u001b[38;5;241m*\u001b[39md\n\u001b[0;32m    169\u001b[0m     \u001b[38;5;28;01mfor\u001b[39;00m i \u001b[38;5;129;01min\u001b[39;00m np\u001b[38;5;241m.\u001b[39marange(\u001b[38;5;241m0\u001b[39m, \u001b[38;5;28mself\u001b[39m\u001b[38;5;241m.\u001b[39mN, \u001b[38;5;241m2\u001b[39m\u001b[38;5;241m*\u001b[39mnum_bits):\n\u001b[0;32m    170\u001b[0m         \u001b[38;5;66;03m# [u v] encoded to [u xor(u,v)]\u001b[39;00m\n\u001b[1;32m--> 171\u001b[0m         u \u001b[38;5;241m=\u001b[39m torch\u001b[38;5;241m.\u001b[39mcat((u[:, :i], \u001b[43mu\u001b[49m\u001b[43m[\u001b[49m\u001b[43m:\u001b[49m\u001b[43m,\u001b[49m\u001b[43m \u001b[49m\u001b[43mi\u001b[49m\u001b[43m:\u001b[49m\u001b[43mi\u001b[49m\u001b[38;5;241;43m+\u001b[39;49m\u001b[43mnum_bits\u001b[49m\u001b[43m]\u001b[49m\u001b[38;5;241;43m.\u001b[39;49m\u001b[43mclone\u001b[49m\u001b[43m(\u001b[49m\u001b[43m)\u001b[49m \u001b[38;5;241m*\u001b[39m u[:, i\u001b[38;5;241m+\u001b[39mnum_bits: i\u001b[38;5;241m+\u001b[39m\u001b[38;5;241m2\u001b[39m\u001b[38;5;241m*\u001b[39mnum_bits], u[:, i\u001b[38;5;241m+\u001b[39mnum_bits:]), dim\u001b[38;5;241m=\u001b[39m\u001b[38;5;241m1\u001b[39m)\n\u001b[0;32m    172\u001b[0m partial_llrs[:, \u001b[38;5;28mself\u001b[39m\u001b[38;5;241m.\u001b[39mn] \u001b[38;5;241m=\u001b[39m u\n\u001b[0;32m    173\u001b[0m \u001b[38;5;28;01mreturn\u001b[39;00m partial_llrs\n",
      "\u001b[1;31mKeyboardInterrupt\u001b[0m: "
     ]
    }
   ],
   "source": [
    "import torch\n",
    "import torch.nn as nn\n",
    "import torch.optim as optim\n",
    "import numpy as np\n",
    "from tqdm import tqdm\n",
    "\n",
    "class NeuralSCDecoder(nn.Module):\n",
    "    def __init__(self, N, K, hidden_dim=128):\n",
    "        super(NeuralSCDecoder, self).__init__()\n",
    "        self.fc1 = nn.Linear(K, hidden_dim)\n",
    "        self.fc2 = nn.Linear(hidden_dim, K)\n",
    "        self.activation = nn.ReLU()\n",
    "    \n",
    "    def forward(self, x):\n",
    "        x = self.activation(self.fc1(x))\n",
    "        x = self.fc2(x)  # Output logits\n",
    "        return x\n",
    "\n",
    "\n",
    "device = 'cuda' if torch.cuda.is_available() else 'cpu'\n",
    "model = NeuralSCDecoder(N, K).to(device)\n",
    "criterion = nn.BCEWithLogitsLoss()\n",
    "# criterion = nn.HingeEmbeddingLoss()\n",
    "optimizer = optim.Adam(model.parameters(), lr=3e-4)\n",
    "num_epochs = 50\n",
    "ber_list, bler_list = [], []\n",
    "data_len = len(df['corrupted_codeword'])\n",
    "for epoch in range(num_epochs):\n",
    "    model.train()\n",
    "    total_loss = 0\n",
    "    total_ber, total_bler = 0, 0\n",
    "    \n",
    "    for corrupted_codeword, original_msg in tqdm(zip(df['corrupted_codeword'][:data_len], df['bpsk'][:data_len]), total=data_len):\n",
    "        corrupted_tensor = torch.tensor(corrupted_codeword, dtype=torch.float32).to(device)\n",
    "        original_msg_tensor = torch.tensor(original_msg, dtype=torch.float32).to(device)\n",
    "\n",
    "        # SC Decoding\n",
    "        SC_llrs, decoded_SC_msg_bits = polar.sc_decode_new(corrupted_tensor, snr=snr)\n",
    "        SC_llrs = SC_llrs.unsqueeze(0)  # Ensure correct shape\n",
    "\n",
    "        # print(SC_llrs.shape)\n",
    "        # print(decoded_SC_msg_bits.shape)\n",
    "        optimizer.zero_grad()\n",
    "        predictions = model(decoded_SC_msg_bits)  \n",
    "        \n",
    "        loss = criterion(predictions, original_msg_tensor)\n",
    "        loss.backward()\n",
    "        optimizer.step()\n",
    "        \n",
    "        total_loss += loss.item()\n",
    "        ber, bler = calculate_ber_bler(predictions.sign(), original_msg_tensor.unsqueeze(0))\n",
    "        total_ber += ber\n",
    "        total_bler += bler\n",
    "    \n",
    "    avg_loss = total_loss / data_len\n",
    "    avg_ber = total_ber / data_len\n",
    "    avg_bler = total_bler / data_len\n",
    "    \n",
    "    print(f\"Epoch {epoch + 1}/{num_epochs}, Loss: {avg_loss:.4f}, BER: {avg_ber:.4f}, BLER: {avg_bler:.4f}\")\n",
    "    \n",
    "    # Early stopping mechanism\n",
    "    if avg_loss < best_loss:\n",
    "        best_loss = avg_loss\n",
    "        trigger_times = 0\n",
    "        torch.save(model.state_dict(), 'best_model.pth')\n",
    "    else:\n",
    "        trigger_times += 1\n",
    "        if trigger_times >= patience:\n",
    "            print(\"Early stopping triggered!\")\n",
    "            break\n",
    "\n",
    "print(\"Training complete.\")\n",
    "\n",
    "\n"
   ]
  },
  {
   "cell_type": "code",
   "execution_count": null,
   "metadata": {},
   "outputs": [],
   "source": []
  }
 ],
 "metadata": {
  "kernelspec": {
   "display_name": "fyp",
   "language": "python",
   "name": "python3"
  },
  "language_info": {
   "codemirror_mode": {
    "name": "ipython",
    "version": 3
   },
   "file_extension": ".py",
   "mimetype": "text/x-python",
   "name": "python",
   "nbconvert_exporter": "python",
   "pygments_lexer": "ipython3",
   "version": "3.10.16"
  }
 },
 "nbformat": 4,
 "nbformat_minor": 2
}
