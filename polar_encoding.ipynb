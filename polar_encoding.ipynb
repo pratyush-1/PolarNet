{
 "cells": [
  {
   "cell_type": "code",
   "execution_count": 85,
   "metadata": {},
   "outputs": [],
   "source": [
    "import torch\n",
    "import torch.nn as nn\n",
    "import numpy as np\n",
    "from tqdm.autonotebook import tqdm\n",
    "from polar import PolarCode,get_frozen\n",
    "from reliability_sequence import Reliability_Sequence\n",
    "from utils import errors_ber,errors_bler\n",
    "import matplotlib.pyplot as plt\n",
    "import os\n",
    "import math"
   ]
  },
  {
   "cell_type": "code",
   "execution_count": 95,
   "metadata": {},
   "outputs": [],
   "source": [
    "n = 4\n",
    "N = 2**n \n",
    "K = 9\n",
    "snr = 1\n",
    "batch_size = 1\n",
    "num_samples = 1000\n"
   ]
  },
  {
   "cell_type": "code",
   "execution_count": 96,
   "metadata": {},
   "outputs": [],
   "source": [
    "\n",
    "def create_data(num_samples, batch_size, n, K, snr,rs):\n",
    "    msg_bits_list = []\n",
    "    bpsk_list = []\n",
    "    codeword_list = []\n",
    "    corrupted_codeword_list = []\n",
    "\n",
    "    # Loop to generate data samples\n",
    "    for i in range(num_samples):\n",
    "        msg_bits = (torch.rand(batch_size, K) > 0.5).float()\n",
    "        bpsk = 1 - 2 * msg_bits\n",
    "\n",
    "        polar = PolarCode(n, K, rs = rs, Fr=None, use_cuda=True, hard_decision=True)\n",
    "        codeword = polar.encode(bpsk)\n",
    "        corrupted_codewords = polar.channel(codeword, snr)\n",
    "\n",
    "        msg_bits_list.append(msg_bits.cpu().numpy())\n",
    "        bpsk_list.append(bpsk.cpu().numpy())\n",
    "        codeword_list.append(codeword.cpu().numpy())\n",
    "        corrupted_codeword_list.append(corrupted_codewords.cpu().numpy())\n",
    "\n",
    "    filename = f\"polar_dataset_N{2**n}_K{K}_SNR{snr}_bs{batch_size}.npz\"\n",
    "    np.savez(f\"polar_dataset_N{2**n}_K{K}_SNR{snr}_bs{batch_size}.npz\", msg_bits=msg_bits_list, corrupted_codeword=corrupted_codeword_list,bpsk = bpsk_list,codeword=codeword_list)\n",
    "    print(f\"Dataset saved as {filename}\")\n",
    "    "
   ]
  },
  {
   "cell_type": "code",
   "execution_count": 97,
   "metadata": {},
   "outputs": [
    {
     "name": "stdout",
     "output_type": "stream",
     "text": [
      "Dataset saved as polar_dataset_N16_K9_SNR1_bs1.npz\n"
     ]
    }
   ],
   "source": [
    "create_data(num_samples,batch_size,n,K,snr,rs=Reliability_Sequence)"
   ]
  },
  {
   "cell_type": "code",
   "execution_count": 98,
   "metadata": {},
   "outputs": [],
   "source": [
    "df = np.load('data_rs\\polar_dataset_N16_K9_SNR1_bs1.npz')"
   ]
  },
  {
   "cell_type": "code",
   "execution_count": 99,
   "metadata": {},
   "outputs": [
    {
     "name": "stderr",
     "output_type": "stream",
     "text": [
      "100%|██████████| 1000/1000 [00:14<00:00, 68.84it/s]\n"
     ]
    }
   ],
   "source": [
    "from tqdm.autonotebook import tqdm\n",
    "Fr = get_frozen(N, K,rs=Reliability_Sequence)\n",
    "polar = PolarCode(n, K, rs = Reliability_Sequence, Fr = Fr,use_cuda=False,hard_decision=True)\n",
    "device = 'cpu'\n",
    "ber_SC_total=0\n",
    "bler_SC_total=0\n",
    "x=10000\n",
    "for bpsk_bits, corrupted_codeword in tqdm(zip(df['bpsk'][:x], df['corrupted_codeword'][:x]),total=len(df['bpsk'][:x])):\n",
    "    bpsk_tensor = torch.tensor(bpsk_bits, dtype=torch.float32,device=device)\n",
    "    corrupted_codeword_tensor = torch.tensor(corrupted_codeword, dtype=torch.float32,device=device)\n",
    "\n",
    "    SC_llrs, decoded_SC_msg_bits = polar.sc_decode_new(corrupted_codeword_tensor, snr=snr)\n",
    "    ber_SC = errors_ber(bpsk_tensor,decoded_SC_msg_bits.sign()).item()\n",
    "    bler_SC = errors_bler(bpsk_tensor,decoded_SC_msg_bits.sign()).item()\n",
    "\n",
    "    ber_SC_total+=ber_SC\n",
    "    bler_SC_total+=bler_SC"
   ]
  },
  {
   "cell_type": "code",
   "execution_count": 100,
   "metadata": {},
   "outputs": [
    {
     "data": {
      "text/plain": [
       "(0.11277777976542712, 0.275)"
      ]
     },
     "execution_count": 100,
     "metadata": {},
     "output_type": "execute_result"
    }
   ],
   "source": [
    "ber_SC_total/len(df['msg_bits'][:x]),bler_SC_total/len(df['msg_bits'][:x])"
   ]
  },
  {
   "cell_type": "markdown",
   "metadata": {},
   "source": [
    "### LSTM CCI"
   ]
  },
  {
   "cell_type": "code",
   "execution_count": 58,
   "metadata": {},
   "outputs": [],
   "source": [
    "class LSTMDecoder(nn.Module):\n",
    "    def __init__(self,N,K,hidden_size,rs):\n",
    "        super().__init__()\n",
    "        self.N = N\n",
    "        self.K = K\n",
    "        self.hidden_size = hidden_size\n",
    "\n",
    "        self.frozen_positions = get_frozen(self.N, self.K, rs)\n",
    "        self.frozen_mask = torch.full((N,), 0, dtype=torch.int8)\n",
    "        # self.frozen_mask = torch.zeros(N,dtype=torch.bool)\n",
    "        self.frozen_mask[self.frozen_positions] = 1\n",
    "        self.lstms = nn.ModuleList([\n",
    "            nn.LSTM(input_size=1, hidden_size=hidden_size, num_layers=1, batch_first=True)\n",
    "            for _ in range(N)\n",
    "        ])\n",
    "        self.fcs= nn.ModuleList([\n",
    "            nn.Linear(hidden_size, 1) for _ in range(N)\n",
    "        ])\n",
    "    \n",
    "    def forward(self,corrupted_codeword):\n",
    "        batch_size = corrupted_codeword.size(0)\n",
    "        device = corrupted_codeword.device\n",
    "        x = corrupted_codeword.unsqueeze(-1) if corrupted_codeword.dim() == 2 else corrupted_codeword\n",
    "\n",
    "        h0 = [torch.zeros(1, batch_size, self.hidden_size, device=device) for _ in range(self.N)]\n",
    "        c0 = [torch.zeros(1, batch_size, self.hidden_size, device=device) for _ in range(self.N)]\n",
    "\n",
    "        decoded_outputs = []\n",
    "        for i in range(self.N):\n",
    "            output, (h0[i], c0[i]) = self.lstms[i](x, (h0[i], c0[i]))\n",
    "\n",
    "            decoded_bits = self.fcs[i](output).squeeze(-1)\n",
    "            decoded_outputs.append(decoded_bits)\n",
    "            x = corrupted_codeword + (self.frozen_mask.float().to(device)*decoded_bits.sign()) #current logic\n",
    "            x = x.unsqueeze(-1)\n",
    "        \n",
    "        decoded_outputs = torch.stack(decoded_outputs,dim=1)\n",
    "        # non_frozen_mask = ~self.frozen_mask\n",
    "        non_frozen_mask = (self.frozen_mask == 0).nonzero(as_tuple=True)[0]\n",
    "\n",
    "        final_predictions = decoded_outputs[:,-1,non_frozen_mask]\n",
    "\n",
    "        return decoded_outputs, final_predictions\n"
   ]
  },
  {
   "cell_type": "markdown",
   "metadata": {},
   "source": [
    "### LSTM augmented input"
   ]
  },
  {
   "cell_type": "code",
   "execution_count": 58,
   "metadata": {},
   "outputs": [],
   "source": [
    "class LSTMDecoder2(nn.Module):\n",
    "    def __init__(self,N,K,hidden_size,rs):\n",
    "        super().__init__()\n",
    "        self.N = N\n",
    "        self.K = K\n",
    "        self.hidden_size = hidden_size\n",
    "\n",
    "        self.frozen_positions = get_frozen(self.N, self.K, rs)\n",
    "        self.frozen_mask = torch.full((N,), 0, dtype=torch.int8)\n",
    "        # self.frozen_mask = torch.zeros(N,dtype=torch.int8)\n",
    "        self.frozen_mask[self.frozen_positions] = 1\n",
    "        self.lstms = nn.ModuleList([\n",
    "            nn.LSTM(input_size=1, hidden_size=hidden_size, num_layers=1, batch_first=True)\n",
    "            for _ in range(N)\n",
    "        ])\n",
    "        self.fcs= nn.ModuleList([\n",
    "            nn.Linear(hidden_size+1, 1) for _ in range(N) # 1 for the frozen bit\n",
    "        ])\n",
    "    \n",
    "    def forward(self,corrupted_codeword):\n",
    "        batch_size = corrupted_codeword.size(0)\n",
    "        device = corrupted_codeword.device\n",
    "        x = corrupted_codeword.unsqueeze(-1) if corrupted_codeword.dim() == 2 else corrupted_codeword\n",
    "\n",
    "        h0 = [torch.zeros(1, batch_size, self.hidden_size, device=device) for _ in range(self.N)]\n",
    "        c0 = [torch.zeros(1, batch_size, self.hidden_size, device=device) for _ in range(self.N)]\n",
    "\n",
    "        decoded_outputs = []\n",
    "        for i in range(self.N):\n",
    "            lstm_output, (h0[i], c0[i]) = self.lstms[i](x, (h0[i], c0[i]))\n",
    "\n",
    "            frozen_bit = self.frozen_mask[i].float().to(device) \n",
    "\n",
    "            frozen_bit = frozen_bit.unsqueeze(0).unsqueeze(0).expand(batch_size, lstm_output.size(1), -1) \n",
    "         \n",
    "            lstm_output_with_frozen = torch.cat([lstm_output, frozen_bit], dim=-1)\n",
    "\n",
    "            predicted_bit = self.fcs[i](lstm_output_with_frozen).squeeze(-1)\n",
    "\n",
    "            decoded_outputs.append(predicted_bit)\n",
    "            # x = corrupted_codeword + (self.frozen_mask.float().to(device)*decoded_bits.sign()) #current logic\n",
    "            x = torch.cat([x, predicted_bit.unsqueeze(-1)], dim=-1)[:,:,-1:]\n",
    "\n",
    "        \n",
    "        decoded_outputs = torch.stack(decoded_outputs,dim=1)\n",
    "        # non_frozen_mask = ~self.frozen_mask\n",
    "        non_frozen_mask = (self.frozen_mask == 0).nonzero(as_tuple=True)[0]\n",
    "\n",
    "        final_predictions = decoded_outputs[:,-1,non_frozen_mask]\n",
    "\n",
    "        return decoded_outputs, final_predictions"
   ]
  },
  {
   "cell_type": "markdown",
   "metadata": {},
   "source": [
    "### Improved LSTM "
   ]
  },
  {
   "cell_type": "code",
   "execution_count": null,
   "metadata": {},
   "outputs": [],
   "source": [
    "#trying to learn the whole vector instead here\n",
    "class ImprovedLSTMDecoder(nn.Module):\n",
    "    def __init__(self, N, K, hidden_size, rs):\n",
    "        super().__init__()\n",
    "        self.N = N\n",
    "        self.K = K\n",
    "        self.hidden_size = hidden_size\n",
    "\n",
    "        self.frozen_positions = get_frozen(self.N, self.K, rs)\n",
    "        self.frozen_mask = torch.full((N,), -1, dtype=torch.int8)\n",
    "        self.frozen_mask[self.frozen_positions] = 1\n",
    "\n",
    "        self.lstm = nn.LSTM(input_size=1, hidden_size=hidden_size, num_layers=2, bidirectional=True, batch_first=True)\n",
    "        self.attention = nn.MultiheadAttention(embed_dim=hidden_size * 2, num_heads=4)\n",
    "        self.fc = nn.Linear(hidden_size * 2, 1)\n",
    "        self.layer_norm = nn.LayerNorm(hidden_size * 2)\n",
    "        self.residual = nn.Linear(1, hidden_size * 2)\n",
    "\n",
    "    def forward(self, corrupted_codeword):\n",
    "        batch_size = corrupted_codeword.size(0)\n",
    "        device = corrupted_codeword.device\n",
    "        x = corrupted_codeword.unsqueeze(-1) if corrupted_codeword.dim() == 2 else corrupted_codeword\n",
    "\n",
    "        h0 = torch.zeros(2 * 2, batch_size, self.hidden_size, device=device)\n",
    "        c0 = torch.zeros(2 * 2, batch_size, self.hidden_size, device=device)\n",
    "\n",
    "        lstm_out, _ = self.lstm(x, (h0, c0))\n",
    "        \n",
    "        lstm_out = self.layer_norm(lstm_out)\n",
    "\n",
    "        # Attention mechanism\n",
    "        attn_output, _ = self.attention(lstm_out, lstm_out, lstm_out)\n",
    "        attn_output = self.layer_norm(attn_output + lstm_out)\n",
    "\n",
    "        # Residual connection\n",
    "        residual = self.residual(x)\n",
    "        attn_output = attn_output + residual\n",
    "\n",
    "        decoded_bits = self.fc(attn_output).squeeze(-1)\n",
    "\n",
    "        # Handle frozen bits\n",
    "        decoded_bits[:, self.frozen_positions] = 0\n",
    "\n",
    "        non_frozen_mask = (self.frozen_mask == -1).nonzero(as_tuple=True)[0]\n",
    "        return decoded_bits[:, non_frozen_mask]\n"
   ]
  },
  {
   "cell_type": "markdown",
   "metadata": {},
   "source": [
    "### Custom decoder\n"
   ]
  },
  {
   "cell_type": "code",
   "execution_count": 71,
   "metadata": {},
   "outputs": [],
   "source": [
    "import torch\n",
    "import torch.nn as nn\n",
    "import torch.nn.functional as F\n",
    "import numpy as np\n",
    "\n",
    "class PolarDecoder(nn.Module):\n",
    "    def __init__(self, N, K, dec_hidden_size=64, activation='gelu'):\n",
    "        super(PolarDecoder, self).__init__()\n",
    "        self.N = N  # Block length\n",
    "        self.K = K  # Number of information bits\n",
    "\n",
    "        # Neural network for decoding\n",
    "        self.decoder_nn = nn.Sequential(\n",
    "            nn.Linear(N, dec_hidden_size),\n",
    "            nn.ReLU() if activation == 'relu' else nn.GELU(),\n",
    "            nn.Linear(dec_hidden_size, K)\n",
    "        )\n",
    "\n",
    "    def forward(self, noisy_codewords):\n",
    "        \"\"\"\n",
    "        Decode the noisy codewords using a neural network.\n",
    "        \n",
    "        Args:\n",
    "            noisy_codewords (torch.Tensor): The noisy codewords of shape (batch_size, N).\n",
    "        \n",
    "        Returns:\n",
    "            torch.Tensor: Decoded information bits of shape (batch_size, K).\n",
    "        \"\"\"\n",
    "        # Pass the noisy codewords through the neural network\n",
    "        decoded_bits = self.decoder_nn(noisy_codewords)\n",
    "        return decoded_bits\n"
   ]
  },
  {
   "cell_type": "markdown",
   "metadata": {},
   "source": [
    "### CRISP"
   ]
  },
  {
   "cell_type": "code",
   "execution_count": 77,
   "metadata": {},
   "outputs": [],
   "source": [
    "class RNN_Model(nn.Module):\n",
    "    def __init__(self, rnn_type, input_size, feature_size, output_size, num_rnn_layers, y_size, y_hidden_size, y_depth, activation='relu', dropout=0., skip=False, out_linear_depth=1, y_output_size=None, bidirectional=False, use_layernorm=False):\n",
    "        super(RNN_Model, self).__init__()\n",
    "\n",
    "        assert rnn_type in ['GRU', 'LSTM']\n",
    "        self.input_size = input_size\n",
    "        self.activation = activation\n",
    "        self.feature_size = feature_size\n",
    "        self.output_size = output_size\n",
    "        self.skip = skip\n",
    "\n",
    "        self.num_rnn_layers = num_rnn_layers\n",
    "        self.bidirectional = bidirectional\n",
    "        self.rnn = getattr(nn, rnn_type)(self.input_size, self.feature_size, self.num_rnn_layers, bidirectional=self.bidirectional, batch_first=True)\n",
    "        self.rnn_type = rnn_type\n",
    "        self.dropout = dropout\n",
    "        self.drop = nn.Dropout(dropout)\n",
    "\n",
    "        self.y_depth = y_depth\n",
    "        self.y_size = y_size\n",
    "        self.y_hidden_size = y_hidden_size\n",
    "        self.out_linear_depth = out_linear_depth\n",
    "        self.y_output_size = (int(self.bidirectional) + 1) * self.num_rnn_layers * self.feature_size if y_output_size is None else y_output_size\n",
    "        if use_layernorm:\n",
    "            self.layernorm = nn.LayerNorm(self.feature_size)\n",
    "        else:\n",
    "            self.layernorm = nn.Identity()\n",
    "\n",
    "        if self.y_hidden_size > 0 and self.y_depth > 0:\n",
    "            self.y_linears = nn.ModuleList([nn.Linear(self.y_size, self.y_hidden_size, bias=True)])\n",
    "            self.y_linears.extend([nn.Linear(self.y_hidden_size, self.y_hidden_size, bias=True) for ii in range(1, self.y_depth - 1)])\n",
    "            if (not hasattr(self, 'skip')) or (not self.skip):\n",
    "                self.y_linears.append(nn.Linear(self.y_hidden_size, self.y_output_size, bias=True))\n",
    "            else:\n",
    "                self.y_linears.append(nn.Linear(self.y_hidden_size, self.y_output_size - self.y_size, bias=True))\n",
    "\n",
    "        if self.out_linear_depth == 1:\n",
    "            self.linear = nn.Linear((int(self.bidirectional) + 1) * self.feature_size, self.output_size)\n",
    "        else:\n",
    "            layers = []\n",
    "            layers.append(nn.Linear((int(self.bidirectional) + 1) * self.feature_size, self.y_hidden_size))\n",
    "            for ii in range(1, self.out_linear_depth - 1):\n",
    "                layers.append(nn.SELU())\n",
    "                layers.append(nn.Linear(self.y_hidden_size, self.y_hidden_size))\n",
    "            layers.append(nn.SELU())\n",
    "            layers.append(nn.Linear(self.y_hidden_size, self.output_size))\n",
    "            self.linear = nn.Sequential(*layers)\n",
    "\n",
    "    def act(self, inputs):\n",
    "        if self.activation == 'tanh':\n",
    "            return F.tanh(inputs)\n",
    "        elif self.activation == 'elu':\n",
    "            return F.elu(inputs)\n",
    "        elif self.activation == 'relu':\n",
    "            return F.relu(inputs)\n",
    "        elif self.activation == 'selu':\n",
    "            return F.selu(inputs)\n",
    "        elif self.activation == 'sigmoid':\n",
    "            return F.sigmoid(inputs)\n",
    "        elif self.activation == 'linear':\n",
    "            return inputs\n",
    "        else:\n",
    "            return inputs\n",
    "\n",
    "    def get_h0(self, y):\n",
    "        x = y.clone()\n",
    "        for ii, layer in enumerate(self.y_linears):\n",
    "            if ii != self.y_depth:\n",
    "                x = self.act(layer(x))\n",
    "            else:\n",
    "                x = layer(x)\n",
    "        if self.skip:\n",
    "            x = torch.cat([y, x], 1)\n",
    "        x = x.reshape(-1, self.feature_size, (int(self.bidirectional) + 1) * self.num_rnn_layers).permute(2, 0, 1).contiguous()\n",
    "\n",
    "        if self.rnn_type == 'GRU':\n",
    "            return x\n",
    "        else:\n",
    "            return (x, x)\n",
    "\n",
    "    def get_Fy(self, y):\n",
    "        Fy = y.clone()\n",
    "        for ii, layer in enumerate(self.y_linears):\n",
    "            if ii != self.y_depth:\n",
    "                Fy = self.act(layer(Fy))\n",
    "            else:\n",
    "                Fy = layer(Fy)\n",
    "        return Fy\n",
    "\n",
    "    def forward(self, input, hidden, Fy=None):\n",
    "        out, hidden = self.rnn(input, hidden)\n",
    "        out = self.drop(out)\n",
    "        out = self.layernorm(out)\n",
    "\n",
    "        if Fy is None:\n",
    "            decoded = self.linear(out)\n",
    "        else:\n",
    "            decoded = self.linear(torch.cat([Fy, out], -1))\n",
    "        decoded = decoded.view(-1, self.output_size)\n",
    "        return decoded, hidden"
   ]
  },
  {
   "cell_type": "code",
   "execution_count": 80,
   "metadata": {},
   "outputs": [],
   "source": [
    "rnn_type = 'LSTM'  # or 'LSTM'\n",
    "input_size = 1  \n",
    "feature_size = 256  # Hidden size of the RNN\n",
    "output_size = 1  # Output size (e.g., 1 for binary classification)\n",
    "num_rnn_layers = 2  # Number of RNN layers\n",
    "y_size = 32  # Size of the input for the initial hidden state computation\n",
    "y_hidden_size = 128  # Hidden size for the initial hidden state computation\n",
    "y_depth = 3  # Depth of the initial hidden state computation network\n",
    "activation = 'selu'  # Activation function\n",
    "dropout = 0.1  # Dropout rate\n",
    "skip = False  # Whether to use skip connections\n",
    "out_linear_depth = 1  # Depth of the output linear layers\n",
    "y_output_size = None  # Output size for the initial hidden state computation (optional)\n",
    "bidirectional = False  # Whether to use bidirectional RNN\n",
    "use_layernorm = False  # Whether to use layer normalization\n",
    "device = 'cuda'\n",
    "# Initialize the model\n",
    "model = RNN_Model(\n",
    "    rnn_type=rnn_type,\n",
    "    input_size=input_size,\n",
    "    feature_size=feature_size,\n",
    "    output_size=output_size,\n",
    "    num_rnn_layers=num_rnn_layers,\n",
    "    y_size=y_size,\n",
    "    y_hidden_size=y_hidden_size,\n",
    "    y_depth=y_depth,\n",
    "    activation=activation,\n",
    "    dropout=dropout,\n",
    "    skip=skip,\n",
    "    out_linear_depth=out_linear_depth,\n",
    "    y_output_size=y_output_size,\n",
    "    bidirectional=bidirectional,\n",
    "    use_layernorm=use_layernorm\n",
    ").to(device)"
   ]
  },
  {
   "cell_type": "markdown",
   "metadata": {},
   "source": [
    "### Training loop"
   ]
  },
  {
   "cell_type": "code",
   "execution_count": 81,
   "metadata": {},
   "outputs": [],
   "source": [
    "class FocalLoss(nn.Module):\n",
    "    \"\"\"Focal Loss for handling imbalance\"\"\"\n",
    "    def __init__(self, alpha=0.25, gamma=2.0):\n",
    "        super().__init__()\n",
    "        self.alpha = alpha\n",
    "        self.gamma = gamma\n",
    "        \n",
    "    def forward(self, inputs, targets):\n",
    "        BCE_loss = nn.functional.binary_cross_entropy_with_logits(inputs, targets, reduction='none')\n",
    "        pt = torch.exp(-BCE_loss)\n",
    "        F_loss = self.alpha * (1-pt)**self.gamma * BCE_loss\n",
    "        return F_loss.mean()\n",
    "class DiceLoss(nn.Module):\n",
    "    def __init__(self, smooth=1.0):\n",
    "        super(DiceLoss, self).__init__()\n",
    "        self.smooth = smooth\n",
    "\n",
    "    def forward(self, preds, targets):\n",
    "        preds = torch.sigmoid(preds)  # Ensure outputs are in probability space\n",
    "        intersection = (preds * targets).sum()\n",
    "        dice_coeff = (2. * intersection + self.smooth) / (preds.sum() + targets.sum() + self.smooth)\n",
    "        return 1 - dice_coeff"
   ]
  },
  {
   "cell_type": "code",
   "execution_count": null,
   "metadata": {},
   "outputs": [],
   "source": [
    "\n",
    "device = 'cuda'\n",
    "# model = LSTMDecoder(N=N, K=K, hidden_size=64, rs=Reliability_Sequence).to(device)\n",
    "model = PolarDecoder(N,K,dec_hidden_size=64).to(device)\n",
    "criterion = nn.BCEWithLogitsLoss()\n",
    "focal_criterion = FocalLoss()\n",
    "dice_criterion = DiceLoss()\n",
    "optimizer = torch.optim.Adam(model.parameters(), lr=3e-4)"
   ]
  },
  {
   "cell_type": "code",
   "execution_count": 83,
   "metadata": {},
   "outputs": [],
   "source": [
    "def calculate_ber_bler(predictions, targets):\n",
    "    \"\"\" Calculate BER and BLER using errors_ber and errors_bler functions. \"\"\"\n",
    "    ber = errors_ber(targets, predictions.sign()).item()\n",
    "    bler = errors_bler(targets, predictions.sign()).item()\n",
    "    return ber, bler"
   ]
  },
  {
   "cell_type": "code",
   "execution_count": null,
   "metadata": {},
   "outputs": [
    {
     "name": "stderr",
     "output_type": "stream",
     "text": [
      "  0%|          | 0/900 [00:00<?, ?it/s]\n"
     ]
    },
    {
     "ename": "TypeError",
     "evalue": "RNN_Model.forward() missing 1 required positional argument: 'hidden'",
     "output_type": "error",
     "traceback": [
      "\u001b[1;31m---------------------------------------------------------------------------\u001b[0m",
      "\u001b[1;31mTypeError\u001b[0m                                 Traceback (most recent call last)",
      "Cell \u001b[1;32mIn[84], line 20\u001b[0m\n\u001b[0;32m     16\u001b[0m corrupted_codeword_tensor \u001b[38;5;241m=\u001b[39m torch\u001b[38;5;241m.\u001b[39mtensor(corrupted_codeword, dtype\u001b[38;5;241m=\u001b[39mtorch\u001b[38;5;241m.\u001b[39mfloat32)\u001b[38;5;241m.\u001b[39mto(device)\n\u001b[0;32m     19\u001b[0m optimizer\u001b[38;5;241m.\u001b[39mzero_grad()\n\u001b[1;32m---> 20\u001b[0m final_predictions,_ \u001b[38;5;241m=\u001b[39m \u001b[43mmodel\u001b[49m\u001b[43m(\u001b[49m\u001b[43mcorrupted_codeword_tensor\u001b[49m\u001b[43m)\u001b[49m\n\u001b[0;32m     21\u001b[0m \u001b[38;5;66;03m# print(final_predictions.shape)\u001b[39;00m\n\u001b[0;32m     22\u001b[0m bce_loss \u001b[38;5;241m=\u001b[39m criterion(final_predictions, msg_tensor)\n",
      "File \u001b[1;32mc:\\Users\\pratyush\\miniconda3\\envs\\fyp\\lib\\site-packages\\torch\\nn\\modules\\module.py:1739\u001b[0m, in \u001b[0;36mModule._wrapped_call_impl\u001b[1;34m(self, *args, **kwargs)\u001b[0m\n\u001b[0;32m   1737\u001b[0m     \u001b[38;5;28;01mreturn\u001b[39;00m \u001b[38;5;28mself\u001b[39m\u001b[38;5;241m.\u001b[39m_compiled_call_impl(\u001b[38;5;241m*\u001b[39margs, \u001b[38;5;241m*\u001b[39m\u001b[38;5;241m*\u001b[39mkwargs)  \u001b[38;5;66;03m# type: ignore[misc]\u001b[39;00m\n\u001b[0;32m   1738\u001b[0m \u001b[38;5;28;01melse\u001b[39;00m:\n\u001b[1;32m-> 1739\u001b[0m     \u001b[38;5;28;01mreturn\u001b[39;00m \u001b[38;5;28mself\u001b[39m\u001b[38;5;241m.\u001b[39m_call_impl(\u001b[38;5;241m*\u001b[39margs, \u001b[38;5;241m*\u001b[39m\u001b[38;5;241m*\u001b[39mkwargs)\n",
      "File \u001b[1;32mc:\\Users\\pratyush\\miniconda3\\envs\\fyp\\lib\\site-packages\\torch\\nn\\modules\\module.py:1750\u001b[0m, in \u001b[0;36mModule._call_impl\u001b[1;34m(self, *args, **kwargs)\u001b[0m\n\u001b[0;32m   1745\u001b[0m \u001b[38;5;66;03m# If we don't have any hooks, we want to skip the rest of the logic in\u001b[39;00m\n\u001b[0;32m   1746\u001b[0m \u001b[38;5;66;03m# this function, and just call forward.\u001b[39;00m\n\u001b[0;32m   1747\u001b[0m \u001b[38;5;28;01mif\u001b[39;00m \u001b[38;5;129;01mnot\u001b[39;00m (\u001b[38;5;28mself\u001b[39m\u001b[38;5;241m.\u001b[39m_backward_hooks \u001b[38;5;129;01mor\u001b[39;00m \u001b[38;5;28mself\u001b[39m\u001b[38;5;241m.\u001b[39m_backward_pre_hooks \u001b[38;5;129;01mor\u001b[39;00m \u001b[38;5;28mself\u001b[39m\u001b[38;5;241m.\u001b[39m_forward_hooks \u001b[38;5;129;01mor\u001b[39;00m \u001b[38;5;28mself\u001b[39m\u001b[38;5;241m.\u001b[39m_forward_pre_hooks\n\u001b[0;32m   1748\u001b[0m         \u001b[38;5;129;01mor\u001b[39;00m _global_backward_pre_hooks \u001b[38;5;129;01mor\u001b[39;00m _global_backward_hooks\n\u001b[0;32m   1749\u001b[0m         \u001b[38;5;129;01mor\u001b[39;00m _global_forward_hooks \u001b[38;5;129;01mor\u001b[39;00m _global_forward_pre_hooks):\n\u001b[1;32m-> 1750\u001b[0m     \u001b[38;5;28;01mreturn\u001b[39;00m forward_call(\u001b[38;5;241m*\u001b[39margs, \u001b[38;5;241m*\u001b[39m\u001b[38;5;241m*\u001b[39mkwargs)\n\u001b[0;32m   1752\u001b[0m result \u001b[38;5;241m=\u001b[39m \u001b[38;5;28;01mNone\u001b[39;00m\n\u001b[0;32m   1753\u001b[0m called_always_called_hooks \u001b[38;5;241m=\u001b[39m \u001b[38;5;28mset\u001b[39m()\n",
      "\u001b[1;31mTypeError\u001b[0m: RNN_Model.forward() missing 1 required positional argument: 'hidden'"
     ]
    }
   ],
   "source": [
    "num_epochs = 50\n",
    "patience = 5  # Early stopping patience\n",
    "best_loss = float('inf')\n",
    "trigger_times = 0\n",
    "\n",
    "loss_values = []\n",
    "ber_values = []\n",
    "bler_values=[]\n",
    "data_len = len(df['msg_bits'][:900])\n",
    "for epoch in range(num_epochs):\n",
    "    model.train()\n",
    "    total_loss, total_ber, total_bler = 0, 0, 0\n",
    "\n",
    "    for msg_bits, corrupted_codeword in tqdm(zip(df['msg_bits'][:900], df['corrupted_codeword'][:900]), total=data_len):\n",
    "        msg_tensor = torch.tensor(msg_bits, dtype=torch.float32).to(device)\n",
    "        corrupted_codeword_tensor = torch.tensor(corrupted_codeword, dtype=torch.float32).to(device)\n",
    "        \n",
    "                \n",
    "        optimizer.zero_grad()\n",
    "        final_predictions,_ = model(corrupted_codeword_tensor)\n",
    "        # print(final_predictions.shape)\n",
    "        bce_loss = criterion(final_predictions, msg_tensor)\n",
    "        focal_loss = focal_criterion(final_predictions, msg_tensor)\n",
    "        dice_loss = dice_criterion(final_predictions,msg_tensor)\n",
    "        # loss = 20*focal_loss + dice_loss\n",
    "        loss = bce_loss\n",
    "        loss.backward()\n",
    "        # torch.nn.utils.clip_grad_norm_(model.parameters(), max_norm=1.0)  # Gradient clipping\n",
    "        optimizer.step()\n",
    "        \n",
    "        total_loss += loss.item()\n",
    "        ber, bler = calculate_ber_bler((final_predictions >= 0).float(), msg_tensor)\n",
    "        total_ber += ber\n",
    "        total_bler += bler\n",
    "\n",
    "    # Compute average loss and error rates\n",
    "    avg_loss = total_loss / data_len\n",
    "    avg_ber = total_ber / data_len\n",
    "    avg_bler = total_bler / data_len\n",
    "\n",
    "    loss_values.append(avg_loss)\n",
    "    ber_values.append(avg_ber)\n",
    "    bler_values.append(avg_bler)\n",
    "\n",
    "    # Early stopping check\n",
    "    if avg_loss < best_loss:\n",
    "        best_loss = avg_loss\n",
    "        trigger_times = 0\n",
    "        \n",
    "        ckpt_path = rf'weights_rs\\N_{N}_K_{K}_SNR_{snr}_logic1_nonfrozen0_sign'\n",
    "        os.makedirs(ckpt_path,exist_ok=True)\n",
    "        torch.save(model.state_dict(), os.path.join(ckpt_path,f'epoch_{epoch}.pth'))\n",
    "    else:\n",
    "        trigger_times += 1\n",
    "        if trigger_times >= patience:\n",
    "            print(\"Early stopping triggered!\")\n",
    "            break\n",
    "\n",
    "    # Logging progress every 3 epochs\n",
    "    if (epoch + 1) % 3 == 0:\n",
    "        print(f\"Epoch {epoch + 1}/{num_epochs}, Loss: {avg_loss:.4f}, BER: {avg_ber:.4f}, BLER: {avg_bler:.4f}\")\n",
    "\n",
    "print(\"Training complete.\")\n",
    "\n"
   ]
  },
  {
   "cell_type": "code",
   "execution_count": 64,
   "metadata": {},
   "outputs": [
    {
     "data": {
      "image/png": "[encoded data removed]",
      "text/plain": [
       "<Figure size 640x480 with 3 Axes>"
      ]
     },
     "metadata": {},
     "output_type": "display_data"
    }
   ],
   "source": [
    "plt.suptitle('convergence plot for cci decoder for N=16,K=9 and snr=1dB')\n",
    "# Plot Loss vs Epochs\n",
    "plt.subplot(1, 3, 1)\n",
    "plt.plot(loss_values, label='Loss')\n",
    "plt.title('Loss vs Epochs')\n",
    "plt.xlabel('Epochs')\n",
    "plt.ylabel('Train Loss')\n",
    "plt.legend()\n",
    "\n",
    "# Plot BER vs Epochs\n",
    "plt.subplot(1, 3, 2)\n",
    "plt.plot(ber_values, label='BER', color='orange')\n",
    "plt.title('BER vs Epochs')\n",
    "plt.xlabel('Epochs')\n",
    "plt.ylabel('BER')\n",
    "plt.legend()\n",
    "\n",
    "# Plot BLER vs Epochs\n",
    "\n",
    "plt.subplot(1, 3, 3)\n",
    "plt.plot(bler_values, label='BLER', color='green')\n",
    "plt.title('BLER vs Epochs')\n",
    "plt.xlabel('Epochs')\n",
    "plt.ylabel('BLER')\n",
    "plt.legend()\n",
    "\n",
    "plt.tight_layout()\n",
    "plt.show()"
   ]
  },
  {
   "cell_type": "code",
   "execution_count": 106,
   "metadata": {},
   "outputs": [
    {
     "data": {
      "text/plain": [
       "<All keys matched successfully>"
      ]
     },
     "execution_count": 106,
     "metadata": {},
     "output_type": "execute_result"
    }
   ],
   "source": [
    "model.load_state_dict(torch.load(r'weights_rs\\N_16_K_9_SNR_1_logic1_nonfrozen0_sign\\epoch_29.pth'),strict=True)"
   ]
  },
  {
   "cell_type": "code",
   "execution_count": 108,
   "metadata": {},
   "outputs": [
    {
     "name": "stdout",
     "output_type": "stream",
     "text": [
      "final_predictions tensor([[0., 1., 1., 1., 1., 1., 0., 1., 1.]], device='cuda:0')\n",
      "msg_tensor tensor([[0., 1., 1., 0., 1., 0., 0., 1., 1.]], device='cuda:0')\n",
      "decoded incorrectly\n",
      "----------\n",
      "final_predictions tensor([[0., 1., 0., 0., 1., 0., 1., 0., 1.]], device='cuda:0')\n",
      "msg_tensor tensor([[1., 1., 1., 1., 1., 0., 1., 0., 1.]], device='cuda:0')\n",
      "decoded incorrectly\n",
      "----------\n",
      "final_predictions tensor([[1., 1., 0., 1., 0., 0., 0., 1., 1.]], device='cuda:0')\n",
      "msg_tensor tensor([[0., 0., 0., 0., 0., 0., 1., 1., 1.]], device='cuda:0')\n",
      "decoded incorrectly\n",
      "----------\n",
      "final_predictions tensor([[1., 1., 0., 0., 0., 0., 0., 1., 1.]], device='cuda:0')\n",
      "msg_tensor tensor([[0., 1., 1., 0., 0., 0., 0., 1., 1.]], device='cuda:0')\n",
      "decoded incorrectly\n",
      "----------\n",
      "final_predictions tensor([[1., 1., 1., 0., 1., 0., 1., 0., 1.]], device='cuda:0')\n",
      "msg_tensor tensor([[0., 1., 0., 0., 1., 0., 1., 0., 1.]], device='cuda:0')\n",
      "decoded incorrectly\n",
      "----------\n",
      "Test Results - BER: 0.3089, BLER: 0.9200\n"
     ]
    }
   ],
   "source": [
    "ber_total,bler_total = 0,0\n",
    "test_loader = df['msg_bits'][900:]\n",
    "count = 0\n",
    "with torch.no_grad():\n",
    "    model.eval()\n",
    "    for msg_bits, corrupted_codeword in zip(df['msg_bits'][900:], df['corrupted_codeword'][900:]):\n",
    "        count += 1\n",
    "        msg_tensor = torch.tensor(msg_bits, dtype=torch.float32).to(device)\n",
    "        corrupted_codeword_tensor = torch.tensor(corrupted_codeword, dtype=torch.float32).to(device)\n",
    "\n",
    "        final_predictions = model(corrupted_codeword_tensor)\n",
    "        if (count%20==0):\n",
    "            print(f'final_predictions {(final_predictions>=0).float()}')\n",
    "            print(f'msg_tensor {msg_tensor}')\n",
    "            if((final_predictions>0).float()==msg_tensor).all():\n",
    "                print('decoded correctly')\n",
    "            else:\n",
    "                print('decoded incorrectly')\n",
    "            print('----------')\n",
    "        ber,bler = calculate_ber_bler((final_predictions>=0).float(),msg_tensor)\n",
    "        ber_total += ber\n",
    "        bler_total += bler\n",
    "    avg_ber = ber_total / len(test_loader)\n",
    "    avg_bler = bler_total / len(test_loader)\n",
    "    print(f\"Test Results - BER: {avg_ber:.4f}, BLER: {avg_bler:.4f}\")"
   ]
  },
  {
   "cell_type": "code",
   "execution_count": null,
   "metadata": {},
   "outputs": [],
   "source": []
  },
  {
   "cell_type": "code",
   "execution_count": null,
   "metadata": {},
   "outputs": [],
   "source": []
  }
 ],
 "metadata": {
  "kernelspec": {
   "display_name": "fyp",
   "language": "python",
   "name": "python3"
  },
  "language_info": {
   "codemirror_mode": {
    "name": "ipython",
    "version": 3
   },
   "file_extension": ".py",
   "mimetype": "text/x-python",
   "name": "python",
   "nbconvert_exporter": "python",
   "pygments_lexer": "ipython3",
   "version": "3.10.16"
  }
 },
 "nbformat": 4,
 "nbformat_minor": 2
}
